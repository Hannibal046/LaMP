{
 "cells": [
  {
   "cell_type": "code",
   "execution_count": 1,
   "metadata": {},
   "outputs": [
    {
     "name": "stdout",
     "output_type": "stream",
     "text": [
      "10\n"
     ]
    }
   ],
   "source": [
    "import json\n",
    "LaMP_index = [2]\n",
    "for dataset in [\"LaMP_\"+str(x) for x in LaMP_index]:\n",
    "    for _split in 'dev'.split():\n",
    "        # dataset = \"LaMP_3\"\n",
    "        questions = json.load(open(f\"../data/{dataset}/{_split}_questions.json\"))\n",
    "        outputs = json.load(open(f\"../data/{dataset}/{_split}_outputs.json\"))\n",
    "        print(len(questions[0]['profile']))\n",
    "        # print(questions[0]['profile'][0])\n",
    "        # print(questions[0]['profile'][0].keys())\n"
   ]
  },
  {
   "cell_type": "code",
   "execution_count": 2,
   "metadata": {},
   "outputs": [
    {
     "data": {
      "text/plain": [
       "{'id': '110',\n",
       " 'input': 'Which category does this article relate to among the following categories? Just answer with the category name without further explanation. categories: [women, religion, politics, style & beauty, entertainment, culture & arts, sports, science & technology, travel, business, crime, education, healthy living, parents, food & drink] article: Calls for presidential impeachment have cast a shadow over most modern-day presidents. However, the chorus of impeachers seems louder in the past year.',\n",
       " 'profile': [{'text': 'The Electoral College will cast its vote for President-elect Trump in December, and he will be sworn into office in January.  He will then be president, but many Americans are having trouble accepting that fact.',\n",
       "   'title': 'President Elect Donald Trump',\n",
       "   'category': 'politics',\n",
       "   'id': '1100'},\n",
       "  {'text': 'Republican presidential nominee Donald Trump has been a disgrace to his party and an embarrassment to the nation.  He has consistently demonstrated that he does not have the temperament, judgment, background or humility to lead our country.',\n",
       "   'title': 'Is This The End Of The Trump Reality Show?',\n",
       "   'category': 'politics',\n",
       "   'id': '1101'},\n",
       "  {'text': 'Clinton has been a polarizing figure throughout her career. In her Roosevelt Island speech, she portrayed herself as a fighter. But, ultimately, Clinton will have to be more publicly accountable for some of the legitimate questions that have been raised around her candidacy because they are not going away.',\n",
       "   'title': 'Hillary Clinton Speaks',\n",
       "   'category': 'politics',\n",
       "   'id': '1102'},\n",
       "  {'text': \"The U.S. has the most powerful military in the history of the world, but it should not be utilized as a political tool or for retribution. The government and its leaders must do their best to make the right decisions, to be truthful with the American people, and to provide all the necessary support needed to fulfill the military's mission. Unfortunately, this has not always been the case.\",\n",
       "   'title': 'The Politics of War',\n",
       "   'category': 'politics',\n",
       "   'id': '1103'},\n",
       "  {'text': 'Her unconventional announcement video indicates that this time will be different. But with about 18 months to go before the 2016 elections, a loaded field of Republican candidates attacking her, and record amounts of campaign money being spent, this campaign will no doubt be most unconventional. And it is only just getting started!',\n",
       "   'title': 'Hillary Clinton: Getting Started',\n",
       "   'category': 'politics',\n",
       "   'id': '1104'},\n",
       "  {'text': \"As The Interview's release date approached, theaters received retaliatory threats. In response, major theater chains cancelled their showings and Sony dropped its plans for a Christmas Day release. This decision brought on cries of censorship.\",\n",
       "   'title': 'The Interview and Artistic Freedom',\n",
       "   'category': 'entertainment',\n",
       "   'id': '1105'},\n",
       "  {'text': \"Even Obama's supporters sometimes express frustration because the president has refused to act for the sake of acting, shoot from the hip, or jump to conclusions. His approach, no matter the issue, has been measured, studied, thoughtful, cerebral and yes, lawyerly.\",\n",
       "   'title': 'Obama on a Roll',\n",
       "   'category': 'politics',\n",
       "   'id': '1106'},\n",
       "  {'text': 'The NFL is a huge business, but with its success comes great responsibility.  Yet the owners and commissioner of the NFL have been more committed to protecting their business than in getting out ahead on several key social issues that have faced the league.  Where is the leadership?',\n",
       "   'title': 'NFL Fumbles',\n",
       "   'category': 'sports',\n",
       "   'id': '1107'},\n",
       "  {'text': 'With less than 10 weeks to go before the midterm Congressional elections Americans in general are frustrated with Washington. National polls show that about three-quarters of all Americans disapprove of the way Congress is doing its job. Because so much is at stake, this coming election day is not a time for eligible voters to stay home.',\n",
       "   'title': '2014 Midterm Elections',\n",
       "   'category': 'politics',\n",
       "   'id': '1108'},\n",
       "  {'text': \"President Putin's ultimate ambitions are not known, though it is clear he is using the seizure of Crimea and threats against Ukraine in part to strengthen his position at home.  Russia's economy is struggling, and government is riddled with corruption and cronyism.\",\n",
       "   'title': 'Writing Off Putin',\n",
       "   'category': 'politics',\n",
       "   'id': '1109'}]}"
      ]
     },
     "execution_count": 2,
     "metadata": {},
     "output_type": "execute_result"
    }
   ],
   "source": [
    "# outputs['golds'][0]\n",
    "# # questions[0]\n",
    "questions[0]"
   ]
  },
  {
   "cell_type": "code",
   "execution_count": 17,
   "metadata": {},
   "outputs": [
    {
     "data": {
      "text/plain": [
       "['Generate a headline for the following article: Your loans were made at the height of the housing bubble, and looked like a great deal at the time. By using a HELOC as a \"piggyback\" second mortgage, you were not required to make a down payment or to purchase mortgage insurance.',\n",
       " 'Generate a headline for the following article: Homeowners sell their homes and buy other homes for a variety of reasons including a need to live closer to a place of employment, to be closer to family, to enjoy a better climate, or simply to upgrade. This article is about finding the best sequence of steps in the process.',\n",
       " 'Generate a headline for the following article: The tontine is an investment scheme where each of a group of participants pays a specified sum into a fund and receives a pro rata share of the income generated by the fund, but when a participant dies their share is divided among those remaining. As the number of participants dwindles, those remaining receive increasingly large distributions.']"
      ]
     },
     "execution_count": 17,
     "metadata": {},
     "output_type": "execute_result"
    }
   ],
   "source": [
    "inputs = [x['input'] for x in questions]\n",
    "inputs[:3]"
   ]
  },
  {
   "cell_type": "code",
   "execution_count": null,
   "metadata": {},
   "outputs": [],
   "source": [
    "templates = {\n",
    "    \"LaMP_1\":'For an author who has written the paper with the title \"(.+)\", which reference is related\\? Just answer with \\[1\\] or \\[2\\] without explanation\\. \\[1\\]: \"(.+)\" \\[2\\]: \"(.+)\"',\n",
    "\n",
    "}\n",
    "def LaMP_remove_template(data,task):\n",
    "    import re\n",
    "    template = templates[task]\n",
    "    ret = []\n",
    "    for line in data:\n",
    "        match_obj = re.match(template, line)\n",
    "        assert match_obj is not None\n",
    "        ret.append(\" \".join(match_obj.groups()))\n",
    "    return ret\n"
   ]
  },
  {
   "cell_type": "code",
   "execution_count": 23,
   "metadata": {},
   "outputs": [
    {
     "name": "stdout",
     "output_type": "stream",
     "text": [
      "<re.Match object; span=(0, 306), match='For an author who has written the paper with the >\n",
      "<class 'tuple'>\n"
     ]
    }
   ],
   "source": [
    "import re\n",
    "template = \\\n",
    "       'For an author who has written the paper with the title \"(.+)\", which reference is related\\? Just answer with \\[1\\] or \\[2\\] without explanation\\. \\[1\\]: \"(.+)\" \\[2\\]: \"(.+)\"'\n",
    "line = 'For an author who has written the paper with the title \"Algorithms for routing around a rectangle\", which reference is related? Just answer with [1] or [2] without explanation. [1]: \"Reliable broadcasting in product networks with Byzantine faults\" [2]: \"Auctions with heterogeneous items and budget limits\"'\n",
    "\n",
    "# template = r'For an author who has written the paper with the title \"(.+)\"'\n",
    "# line = 'For an author who has written the paper with the title \"Algorithms hello\"'\n",
    "matchObj = re.match(template, line)\n",
    "print(matchObj)\n",
    "if matchObj:\n",
    "    print(type(matchObj.groups()))\n",
    "# print(matchObj.groups())\n",
    "# line = \"Cats are smarter than dogs\"\n",
    "# matchObj = re.match(r'(.*) are (.*?) .*', line, re.M|re.I)\n",
    " \n",
    "# if matchObj:\n",
    "#    print(\"matchObj.group() : \", matchObj.group())\n",
    "#    print(\"matchObj.group(1) : \", matchObj.group(1))\n",
    "#    print(\"matchObj.group(2) : \", matchObj.group(2))\n",
    "# else:\n",
    "#    print(\"No match!!\")"
   ]
  },
  {
   "cell_type": "code",
   "execution_count": 15,
   "metadata": {},
   "outputs": [
    {
     "name": "stdout",
     "output_type": "stream",
     "text": [
      "['The Catcher in the Rye', 'The Catcher in the Rye', 'A Separate Peace']\n"
     ]
    }
   ],
   "source": [
    "def get_title_name\n",
    "import re\n",
    "\n",
    "template = 'For an author who has written the paper with the title \"The Catcher in the Rye\", which reference is related? 1.: \"The Catcher in the Rye\" 2.: \"A Separate Peace\".'\n",
    "\n",
    "title_pattern = re.compile(r'\"([^\"]+)\"')\n",
    "\n",
    "titles = re.findall(title_pattern, template)\n",
    "\n",
    "print(titles)"
   ]
  },
  {
   "cell_type": "code",
   "execution_count": 26,
   "metadata": {},
   "outputs": [
    {
     "name": "stdout",
     "output_type": "stream",
     "text": [
      "('fuck',)\n",
      "Title name: fuck\n"
     ]
    }
   ],
   "source": [
    "import re\n",
    "\n",
    "template = \"For an author with the title fuck who has written the paper with the title title, which reference is with the title fuck related? 1.: title 2.: title.\"\n",
    "\n",
    "# Define a regular expression pattern to match the title name\n",
    "pattern = r'with the title (\\w+)'\n",
    "\n",
    "# Use the pattern to search for a match in the template\n",
    "match = re.search(pattern, template)\n",
    "\n",
    "# Extract the title name from the match object\n",
    "if match:\n",
    "    title_name = match.group(1)\n",
    "    print(match.groups())\n",
    "    print(\"Title name:\", title_name)\n",
    "else:\n",
    "    print(\"No match found.\")"
   ]
  }
 ],
 "metadata": {
  "kernelspec": {
   "display_name": "lamp",
   "language": "python",
   "name": "python3"
  },
  "language_info": {
   "codemirror_mode": {
    "name": "ipython",
    "version": 3
   },
   "file_extension": ".py",
   "mimetype": "text/x-python",
   "name": "python",
   "nbconvert_exporter": "python",
   "pygments_lexer": "ipython3",
   "version": "3.8.16"
  },
  "orig_nbformat": 4
 },
 "nbformat": 4,
 "nbformat_minor": 2
}
